{
  "nbformat": 4,
  "nbformat_minor": 0,
  "metadata": {
    "colab": {
      "name": "train.ipynb",
      "provenance": [],
      "collapsed_sections": [],
      "authorship_tag": "ABX9TyOxcEMYBFrqVpFFeN/jGnnS",
      "include_colab_link": true
    },
    "kernelspec": {
      "name": "python3",
      "display_name": "Python 3"
    },
    "language_info": {
      "name": "python"
    }
  },
  "cells": [
    {
      "cell_type": "markdown",
      "metadata": {
        "id": "view-in-github",
        "colab_type": "text"
      },
      "source": [
        "<a href=\"https://colab.research.google.com/github/ssumannb/Shopping_sale_prediction/blob/main/train.ipynb\" target=\"_parent\"><img src=\"https://colab.research.google.com/assets/colab-badge.svg\" alt=\"Open In Colab\"/></a>"
      ]
    },
    {
      "cell_type": "markdown",
      "source": [
        "\n",
        "\n",
        "### 쇼핑몰 지점별 매출액 예측\n",
        "\n"
      ],
      "metadata": {
        "id": "bawabGNFX5gV"
      }
    },
    {
      "cell_type": "code",
      "source": [
        "from google.colab import drive\n",
        "drive.mount('/content/drive')"
      ],
      "metadata": {
        "colab": {
          "base_uri": "https://localhost:8080/"
        },
        "id": "LkNJclW_YEvG",
        "outputId": "0d95159d-775c-4db6-b730-66c5b0317f34"
      },
      "execution_count": null,
      "outputs": [
        {
          "output_type": "stream",
          "name": "stdout",
          "text": [
            "Drive already mounted at /content/drive; to attempt to forcibly remount, call drive.mount(\"/content/drive\", force_remount=True).\n"
          ]
        }
      ]
    },
    {
      "cell_type": "code",
      "source": [
        "!pwd"
      ],
      "metadata": {
        "colab": {
          "base_uri": "https://localhost:8080/"
        },
        "id": "pIjaS5cSY5l-",
        "outputId": "5eb20d88-1368-4f8b-cfa9-223ed2f7d6cc"
      },
      "execution_count": null,
      "outputs": [
        {
          "output_type": "stream",
          "name": "stdout",
          "text": [
            "/content\n"
          ]
        }
      ]
    },
    {
      "cell_type": "code",
      "execution_count": null,
      "metadata": {
        "id": "duY0aNsMX4QG"
      },
      "outputs": [],
      "source": [
        "# data unzip code\n",
        "# path_zip = './drive/MyDrive/Colab Notebooks/sales_prediction/dataset.zip'\n",
        "# path_unzip = path_zip+'data/'\n",
        "\n",
        "# import zipfile\n",
        "\n",
        "# with zipfile.ZipFile(path_zip, 'r') as zip_ref:\n",
        "#   zip_ref.extractall(path_unzip)"
      ]
    },
    {
      "cell_type": "code",
      "source": [
        "import pandas as pd\n",
        "PATH = './drive/MyDrive/Colab Notebooks/sales_prediction/dataset/'\n",
        "\n",
        "train_df = pd.read_csv(f'{PATH}train.csv', index_col='id')\n",
        "test_df = pd.read_csv(f'{PATH}test.csv', index_col='id')\n",
        "\n",
        "print(train_df.info())"
      ],
      "metadata": {
        "colab": {
          "base_uri": "https://localhost:8080/"
        },
        "id": "lYglpg1UWg86",
        "outputId": "ce2ca49f-0a67-40ea-92bd-7ac6f1e68eb1"
      },
      "execution_count": null,
      "outputs": [
        {
          "output_type": "stream",
          "name": "stdout",
          "text": [
            "<class 'pandas.core.frame.DataFrame'>\n",
            "Int64Index: 6255 entries, 1 to 6255\n",
            "Data columns (total 12 columns):\n",
            " #   Column        Non-Null Count  Dtype  \n",
            "---  ------        --------------  -----  \n",
            " 0   Store         6255 non-null   int64  \n",
            " 1   Date          6255 non-null   object \n",
            " 2   Temperature   6255 non-null   float64\n",
            " 3   Fuel_Price    6255 non-null   float64\n",
            " 4   Promotion1    2102 non-null   float64\n",
            " 5   Promotion2    1592 non-null   float64\n",
            " 6   Promotion3    1885 non-null   float64\n",
            " 7   Promotion4    1819 non-null   float64\n",
            " 8   Promotion5    2115 non-null   float64\n",
            " 9   Unemployment  6255 non-null   float64\n",
            " 10  IsHoliday     6255 non-null   bool   \n",
            " 11  Weekly_Sales  6255 non-null   float64\n",
            "dtypes: bool(1), float64(9), int64(1), object(1)\n",
            "memory usage: 592.5+ KB\n",
            "None\n"
          ]
        }
      ]
    },
    {
      "cell_type": "code",
      "source": [
        "train_df.head()\n",
        "train_df = train_df.fillna(0)"
      ],
      "metadata": {
        "id": "aHRCBCScGsQT"
      },
      "execution_count": null,
      "outputs": []
    },
    {
      "cell_type": "markdown",
      "source": [
        "데이터 특징\n",
        "* index 데이터와 y 데이터를 제외하고 11개의 feature로 구성되어 있음\n",
        "* 모두 문자열형태로 되어있음\n",
        "\n",
        "1. Categorical 특징 : ['Store']\n",
        "2. Binning 할 특징 : ['Date', 'Temperature', 'Fuel_price']"
      ],
      "metadata": {
        "id": "Y9l2-dEGapzk"
      }
    },
    {
      "cell_type": "code",
      "source": [
        "COL_CAT = ['Store', 'IsHoliday']\n",
        "COL_DAT = ['Date']\n",
        "COL_NUM = ['Temperature', 'Fuel_Price', 'Unemployment']"
      ],
      "metadata": {
        "id": "sWWe-VRM7KuZ"
      },
      "execution_count": null,
      "outputs": []
    },
    {
      "cell_type": "code",
      "source": [
        "train_X = train_df.drop('Weekly_Sales', axis=1)\n",
        "train_y = train_df['Weekly_Sales'].apply(float)"
      ],
      "metadata": {
        "id": "1bGZsB4Mapk7"
      },
      "execution_count": null,
      "outputs": []
    },
    {
      "cell_type": "code",
      "source": [
        "train_X.head()"
      ],
      "metadata": {
        "colab": {
          "base_uri": "https://localhost:8080/",
          "height": 237
        },
        "id": "cCFggznzZgcW",
        "outputId": "d2d209c7-695f-4d25-9997-e59390faf6a2"
      },
      "execution_count": null,
      "outputs": [
        {
          "output_type": "execute_result",
          "data": {
            "text/plain": [
              "    Store        Date  Temperature  Fuel_Price  Promotion1  Promotion2  \\\n",
              "id                                                                       \n",
              "1       1  05/02/2010        42.31       2.572         0.0         0.0   \n",
              "2       1  12/02/2010        38.51       2.548         0.0         0.0   \n",
              "3       1  19/02/2010        39.93       2.514         0.0         0.0   \n",
              "4       1  26/02/2010        46.63       2.561         0.0         0.0   \n",
              "5       1  05/03/2010        46.50       2.625         0.0         0.0   \n",
              "\n",
              "    Promotion3  Promotion4  Promotion5  Unemployment  IsHoliday  \n",
              "id                                                               \n",
              "1          0.0         0.0         0.0         8.106      False  \n",
              "2          0.0         0.0         0.0         8.106       True  \n",
              "3          0.0         0.0         0.0         8.106      False  \n",
              "4          0.0         0.0         0.0         8.106      False  \n",
              "5          0.0         0.0         0.0         8.106      False  "
            ],
            "text/html": [
              "\n",
              "  <div id=\"df-28709f1c-fca5-4b35-992e-e44165826a99\">\n",
              "    <div class=\"colab-df-container\">\n",
              "      <div>\n",
              "<style scoped>\n",
              "    .dataframe tbody tr th:only-of-type {\n",
              "        vertical-align: middle;\n",
              "    }\n",
              "\n",
              "    .dataframe tbody tr th {\n",
              "        vertical-align: top;\n",
              "    }\n",
              "\n",
              "    .dataframe thead th {\n",
              "        text-align: right;\n",
              "    }\n",
              "</style>\n",
              "<table border=\"1\" class=\"dataframe\">\n",
              "  <thead>\n",
              "    <tr style=\"text-align: right;\">\n",
              "      <th></th>\n",
              "      <th>Store</th>\n",
              "      <th>Date</th>\n",
              "      <th>Temperature</th>\n",
              "      <th>Fuel_Price</th>\n",
              "      <th>Promotion1</th>\n",
              "      <th>Promotion2</th>\n",
              "      <th>Promotion3</th>\n",
              "      <th>Promotion4</th>\n",
              "      <th>Promotion5</th>\n",
              "      <th>Unemployment</th>\n",
              "      <th>IsHoliday</th>\n",
              "    </tr>\n",
              "    <tr>\n",
              "      <th>id</th>\n",
              "      <th></th>\n",
              "      <th></th>\n",
              "      <th></th>\n",
              "      <th></th>\n",
              "      <th></th>\n",
              "      <th></th>\n",
              "      <th></th>\n",
              "      <th></th>\n",
              "      <th></th>\n",
              "      <th></th>\n",
              "      <th></th>\n",
              "    </tr>\n",
              "  </thead>\n",
              "  <tbody>\n",
              "    <tr>\n",
              "      <th>1</th>\n",
              "      <td>1</td>\n",
              "      <td>05/02/2010</td>\n",
              "      <td>42.31</td>\n",
              "      <td>2.572</td>\n",
              "      <td>0.0</td>\n",
              "      <td>0.0</td>\n",
              "      <td>0.0</td>\n",
              "      <td>0.0</td>\n",
              "      <td>0.0</td>\n",
              "      <td>8.106</td>\n",
              "      <td>False</td>\n",
              "    </tr>\n",
              "    <tr>\n",
              "      <th>2</th>\n",
              "      <td>1</td>\n",
              "      <td>12/02/2010</td>\n",
              "      <td>38.51</td>\n",
              "      <td>2.548</td>\n",
              "      <td>0.0</td>\n",
              "      <td>0.0</td>\n",
              "      <td>0.0</td>\n",
              "      <td>0.0</td>\n",
              "      <td>0.0</td>\n",
              "      <td>8.106</td>\n",
              "      <td>True</td>\n",
              "    </tr>\n",
              "    <tr>\n",
              "      <th>3</th>\n",
              "      <td>1</td>\n",
              "      <td>19/02/2010</td>\n",
              "      <td>39.93</td>\n",
              "      <td>2.514</td>\n",
              "      <td>0.0</td>\n",
              "      <td>0.0</td>\n",
              "      <td>0.0</td>\n",
              "      <td>0.0</td>\n",
              "      <td>0.0</td>\n",
              "      <td>8.106</td>\n",
              "      <td>False</td>\n",
              "    </tr>\n",
              "    <tr>\n",
              "      <th>4</th>\n",
              "      <td>1</td>\n",
              "      <td>26/02/2010</td>\n",
              "      <td>46.63</td>\n",
              "      <td>2.561</td>\n",
              "      <td>0.0</td>\n",
              "      <td>0.0</td>\n",
              "      <td>0.0</td>\n",
              "      <td>0.0</td>\n",
              "      <td>0.0</td>\n",
              "      <td>8.106</td>\n",
              "      <td>False</td>\n",
              "    </tr>\n",
              "    <tr>\n",
              "      <th>5</th>\n",
              "      <td>1</td>\n",
              "      <td>05/03/2010</td>\n",
              "      <td>46.50</td>\n",
              "      <td>2.625</td>\n",
              "      <td>0.0</td>\n",
              "      <td>0.0</td>\n",
              "      <td>0.0</td>\n",
              "      <td>0.0</td>\n",
              "      <td>0.0</td>\n",
              "      <td>8.106</td>\n",
              "      <td>False</td>\n",
              "    </tr>\n",
              "  </tbody>\n",
              "</table>\n",
              "</div>\n",
              "      <button class=\"colab-df-convert\" onclick=\"convertToInteractive('df-28709f1c-fca5-4b35-992e-e44165826a99')\"\n",
              "              title=\"Convert this dataframe to an interactive table.\"\n",
              "              style=\"display:none;\">\n",
              "        \n",
              "  <svg xmlns=\"http://www.w3.org/2000/svg\" height=\"24px\"viewBox=\"0 0 24 24\"\n",
              "       width=\"24px\">\n",
              "    <path d=\"M0 0h24v24H0V0z\" fill=\"none\"/>\n",
              "    <path d=\"M18.56 5.44l.94 2.06.94-2.06 2.06-.94-2.06-.94-.94-2.06-.94 2.06-2.06.94zm-11 1L8.5 8.5l.94-2.06 2.06-.94-2.06-.94L8.5 2.5l-.94 2.06-2.06.94zm10 10l.94 2.06.94-2.06 2.06-.94-2.06-.94-.94-2.06-.94 2.06-2.06.94z\"/><path d=\"M17.41 7.96l-1.37-1.37c-.4-.4-.92-.59-1.43-.59-.52 0-1.04.2-1.43.59L10.3 9.45l-7.72 7.72c-.78.78-.78 2.05 0 2.83L4 21.41c.39.39.9.59 1.41.59.51 0 1.02-.2 1.41-.59l7.78-7.78 2.81-2.81c.8-.78.8-2.07 0-2.86zM5.41 20L4 18.59l7.72-7.72 1.47 1.35L5.41 20z\"/>\n",
              "  </svg>\n",
              "      </button>\n",
              "      \n",
              "  <style>\n",
              "    .colab-df-container {\n",
              "      display:flex;\n",
              "      flex-wrap:wrap;\n",
              "      gap: 12px;\n",
              "    }\n",
              "\n",
              "    .colab-df-convert {\n",
              "      background-color: #E8F0FE;\n",
              "      border: none;\n",
              "      border-radius: 50%;\n",
              "      cursor: pointer;\n",
              "      display: none;\n",
              "      fill: #1967D2;\n",
              "      height: 32px;\n",
              "      padding: 0 0 0 0;\n",
              "      width: 32px;\n",
              "    }\n",
              "\n",
              "    .colab-df-convert:hover {\n",
              "      background-color: #E2EBFA;\n",
              "      box-shadow: 0px 1px 2px rgba(60, 64, 67, 0.3), 0px 1px 3px 1px rgba(60, 64, 67, 0.15);\n",
              "      fill: #174EA6;\n",
              "    }\n",
              "\n",
              "    [theme=dark] .colab-df-convert {\n",
              "      background-color: #3B4455;\n",
              "      fill: #D2E3FC;\n",
              "    }\n",
              "\n",
              "    [theme=dark] .colab-df-convert:hover {\n",
              "      background-color: #434B5C;\n",
              "      box-shadow: 0px 1px 3px 1px rgba(0, 0, 0, 0.15);\n",
              "      filter: drop-shadow(0px 1px 2px rgba(0, 0, 0, 0.3));\n",
              "      fill: #FFFFFF;\n",
              "    }\n",
              "  </style>\n",
              "\n",
              "      <script>\n",
              "        const buttonEl =\n",
              "          document.querySelector('#df-28709f1c-fca5-4b35-992e-e44165826a99 button.colab-df-convert');\n",
              "        buttonEl.style.display =\n",
              "          google.colab.kernel.accessAllowed ? 'block' : 'none';\n",
              "\n",
              "        async function convertToInteractive(key) {\n",
              "          const element = document.querySelector('#df-28709f1c-fca5-4b35-992e-e44165826a99');\n",
              "          const dataTable =\n",
              "            await google.colab.kernel.invokeFunction('convertToInteractive',\n",
              "                                                     [key], {});\n",
              "          if (!dataTable) return;\n",
              "\n",
              "          const docLinkHtml = 'Like what you see? Visit the ' +\n",
              "            '<a target=\"_blank\" href=https://colab.research.google.com/notebooks/data_table.ipynb>data table notebook</a>'\n",
              "            + ' to learn more about interactive tables.';\n",
              "          element.innerHTML = '';\n",
              "          dataTable['output_type'] = 'display_data';\n",
              "          await google.colab.output.renderOutput(dataTable, element);\n",
              "          const docLink = document.createElement('div');\n",
              "          docLink.innerHTML = docLinkHtml;\n",
              "          element.appendChild(docLink);\n",
              "        }\n",
              "      </script>\n",
              "    </div>\n",
              "  </div>\n",
              "  "
            ]
          },
          "metadata": {},
          "execution_count": 25
        }
      ]
    },
    {
      "cell_type": "code",
      "source": [
        "# transform the categorical features to dummies\n",
        "from sklearn.preprocessing import OneHotEncoder\n",
        "\n",
        "tmp_X = pd.concat([train_X, test_df], axis=0)\n",
        "\n",
        "ohe = OneHotEncoder(drop='first')\n",
        "ohe.fit(tmp_X[COL_CAT])\n",
        "train_X_encoded = ohe.transform(train_X[COL_CAT])\n",
        "test_encoded = ohe.transform(test_df[COL_CAT])\n",
        "print(ohe.get_feature_names(COL_CAT))\n",
        "train_X_encoded_df = pd.DataFrame(train_X_encoded.todense(), columns = ohe.get_feature_names(COL_CAT), index=train_X.index)\n",
        "test_encoded_df = pd.DataFrame(test_encoded.todense(), columns = ohe.get_feature_names(COL_CAT), index=test_df.index)\n",
        "\n",
        "train_X = pd.concat([train_X, train_X_encoded_df], axis=1)\n",
        "train_X = train_X.drop(COL_CAT, axis=1)\n",
        "test_df = pd.concat([test_df, test_encoded_df], axis=1)\n",
        "test_df = test_df.drop(COL_CAT, axis=1)\n",
        "del tmp_X\n",
        "\n",
        "print(train_X.info())"
      ],
      "metadata": {
        "id": "3Rg966NzalKQ"
      },
      "execution_count": null,
      "outputs": []
    },
    {
      "cell_type": "code",
      "source": [
        "print(train_X[COL_NUM].head())\n",
        "train_X['Date_d'] = train_X['Date'].apply(lambda x: int(x.split('/')[0]))\n",
        "train_X['Date_m'] = train_X['Date'].apply(lambda x: int(x.split('/')[1]))\n",
        "train_X['Date_y'] = train_X['Date'].apply(lambda x: int(x.split('/')[2]))\n",
        "train_X[['Date_d','Date_m', 'Date_y']].head()\n",
        "\n",
        "# create 'season' feature \n",
        "def define_season(month:int) -> str:\n",
        "  season = {'winter': [1, 2, 12], \n",
        "            'spring': [3, 4, 5],\n",
        "            'summer': [6, 7, 8],\n",
        "            'autumn': [9, 10, 11]}\n",
        "  for k, v in season.items():\n",
        "    if month in v:\n",
        "      return k\n",
        "\n",
        "train_X['season'] = train_X['Date_m'].apply(define_season)\n",
        "train_X['season'].head()"
      ],
      "metadata": {
        "id": "rK7OZISOeX5l"
      },
      "execution_count": null,
      "outputs": []
    },
    {
      "cell_type": "code",
      "source": [
        "train_X.info()"
      ],
      "metadata": {
        "colab": {
          "base_uri": "https://localhost:8080/"
        },
        "id": "PMLT0cqtHeS5",
        "outputId": "aac2d9d6-0c55-4c8a-d643-c82d286acccb"
      },
      "execution_count": null,
      "outputs": [
        {
          "output_type": "stream",
          "name": "stdout",
          "text": [
            "<class 'pandas.core.frame.DataFrame'>\n",
            "Int64Index: 6255 entries, 1 to 6255\n",
            "Data columns (total 58 columns):\n",
            " #   Column          Non-Null Count  Dtype  \n",
            "---  ------          --------------  -----  \n",
            " 0   Date            6255 non-null   object \n",
            " 1   Temperature     6255 non-null   float64\n",
            " 2   Fuel_Price      6255 non-null   float64\n",
            " 3   Promotion1      6255 non-null   float64\n",
            " 4   Promotion2      6255 non-null   float64\n",
            " 5   Promotion3      6255 non-null   float64\n",
            " 6   Promotion4      6255 non-null   float64\n",
            " 7   Promotion5      6255 non-null   float64\n",
            " 8   Unemployment    6255 non-null   float64\n",
            " 9   Store_2         6255 non-null   float64\n",
            " 10  Store_3         6255 non-null   float64\n",
            " 11  Store_4         6255 non-null   float64\n",
            " 12  Store_5         6255 non-null   float64\n",
            " 13  Store_6         6255 non-null   float64\n",
            " 14  Store_7         6255 non-null   float64\n",
            " 15  Store_8         6255 non-null   float64\n",
            " 16  Store_9         6255 non-null   float64\n",
            " 17  Store_10        6255 non-null   float64\n",
            " 18  Store_11        6255 non-null   float64\n",
            " 19  Store_12        6255 non-null   float64\n",
            " 20  Store_13        6255 non-null   float64\n",
            " 21  Store_14        6255 non-null   float64\n",
            " 22  Store_15        6255 non-null   float64\n",
            " 23  Store_16        6255 non-null   float64\n",
            " 24  Store_17        6255 non-null   float64\n",
            " 25  Store_18        6255 non-null   float64\n",
            " 26  Store_19        6255 non-null   float64\n",
            " 27  Store_20        6255 non-null   float64\n",
            " 28  Store_21        6255 non-null   float64\n",
            " 29  Store_22        6255 non-null   float64\n",
            " 30  Store_23        6255 non-null   float64\n",
            " 31  Store_24        6255 non-null   float64\n",
            " 32  Store_25        6255 non-null   float64\n",
            " 33  Store_26        6255 non-null   float64\n",
            " 34  Store_27        6255 non-null   float64\n",
            " 35  Store_28        6255 non-null   float64\n",
            " 36  Store_29        6255 non-null   float64\n",
            " 37  Store_30        6255 non-null   float64\n",
            " 38  Store_31        6255 non-null   float64\n",
            " 39  Store_32        6255 non-null   float64\n",
            " 40  Store_33        6255 non-null   float64\n",
            " 41  Store_34        6255 non-null   float64\n",
            " 42  Store_35        6255 non-null   float64\n",
            " 43  Store_36        6255 non-null   float64\n",
            " 44  Store_37        6255 non-null   float64\n",
            " 45  Store_38        6255 non-null   float64\n",
            " 46  Store_39        6255 non-null   float64\n",
            " 47  Store_40        6255 non-null   float64\n",
            " 48  Store_41        6255 non-null   float64\n",
            " 49  Store_42        6255 non-null   float64\n",
            " 50  Store_43        6255 non-null   float64\n",
            " 51  Store_44        6255 non-null   float64\n",
            " 52  Store_45        6255 non-null   float64\n",
            " 53  IsHoliday_True  6255 non-null   float64\n",
            " 54  Date_d          6255 non-null   int64  \n",
            " 55  Date_m          6255 non-null   int64  \n",
            " 56  Date_y          6255 non-null   int64  \n",
            " 57  season          6255 non-null   object \n",
            "dtypes: float64(53), int64(3), object(2)\n",
            "memory usage: 2.8+ MB\n"
          ]
        }
      ]
    },
    {
      "cell_type": "code",
      "source": [
        "import matplotlib.pyplot as plt\n",
        "\n",
        "plt.bar(train_X['Temperature'], train_y)\n",
        "plt.show()"
      ],
      "metadata": {
        "colab": {
          "base_uri": "https://localhost:8080/",
          "height": 276
        },
        "id": "uky6nYcuDA5B",
        "outputId": "d51be072-4c69-49a6-942d-d21cc2b48c88"
      },
      "execution_count": null,
      "outputs": [
        {
          "output_type": "display_data",
          "data": {
            "text/plain": [
              "<Figure size 432x288 with 1 Axes>"
            ],
            "image/png": "[encoded data removed]"
          },
          "metadata": {
            "needs_background": "light"
          }
        }
      ]
    },
    {
      "cell_type": "code",
      "source": [
        "import numpy as np\n",
        "\n",
        "bins_temperature = [0, 20, 40, 60, 80, 100]\n",
        "train_X['Temperature_bin'] = pd.DataFrame(np.digitize(train_X['Temperature'], bins=bins_temperature))\n",
        "train_X['Temperature_bin'].head()"
      ],
      "metadata": {
        "colab": {
          "base_uri": "https://localhost:8080/"
        },
        "id": "sdIfwWyZKVbQ",
        "outputId": "9528e2da-be14-4465-a3a4-e9f7c643b17c"
      },
      "execution_count": null,
      "outputs": [
        {
          "output_type": "execute_result",
          "data": {
            "text/plain": [
              "0    6.0\n",
              "1    6.0\n",
              "2    6.0\n",
              "3    6.0\n",
              "4    6.0\n",
              "Name: Temperature_bin, dtype: float64"
            ]
          },
          "metadata": {},
          "execution_count": 16
        }
      ]
    },
    {
      "cell_type": "code",
      "source": [
        "plt.scatter(train_X['Fuel_Price'], train_y)\n",
        "plt.show()"
      ],
      "metadata": {
        "colab": {
          "base_uri": "https://localhost:8080/",
          "height": 276
        },
        "id": "qdWMyyrlFr8e",
        "outputId": "ba57e045-0038-4441-c708-4be7ad6962ce"
      },
      "execution_count": null,
      "outputs": [
        {
          "output_type": "display_data",
          "data": {
            "text/plain": [
              "<Figure size 432x288 with 1 Axes>"
            ],
            "image/png": "[encoded data removed]"
          },
          "metadata": {
            "needs_background": "light"
          }
        }
      ]
    },
    {
      "cell_type": "code",
      "source": [
        ""
      ],
      "metadata": {
        "id": "saOSkRIUdUvD"
      },
      "execution_count": null,
      "outputs": []
    },
    {
      "cell_type": "code",
      "source": [
        "plt.scatter(train_X['Unemployment'], train_y)\n",
        "plt.show()"
      ],
      "metadata": {
        "colab": {
          "base_uri": "https://localhost:8080/",
          "height": 276
        },
        "id": "IiT1X90DF3eR",
        "outputId": "be3886ef-d8bd-4418-bd4a-68aa9cb2a3bd"
      },
      "execution_count": null,
      "outputs": [
        {
          "output_type": "display_data",
          "data": {
            "text/plain": [
              "<Figure size 432x288 with 1 Axes>"
            ],
            "image/png": "[encoded data removed]"
          },
          "metadata": {
            "needs_background": "light"
          }
        }
      ]
    },
    {
      "cell_type": "code",
      "source": [
        ""
      ],
      "metadata": {
        "id": "6IIkgYCZJQ-g"
      },
      "execution_count": null,
      "outputs": []
    }
  ]
}